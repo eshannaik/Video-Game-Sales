{
  "nbformat": 4,
  "nbformat_minor": 0,
  "metadata": {
    "colab": {
      "name": "Video Games.ipynb",
      "provenance": [],
      "toc_visible": true
    },
    "kernelspec": {
      "name": "python3",
      "display_name": "Python 3"
    }
  },
  "cells": [
    {
      "cell_type": "markdown",
      "metadata": {
        "id": "aYd7EFfc5FVU"
      },
      "source": [
        "# **Video Game Sales Data Analytics** "
      ]
    },
    {
      "cell_type": "markdown",
      "metadata": {
        "id": "LnPi0QVb5LUc"
      },
      "source": [
        "## Importing and Preprocessing"
      ]
    },
    {
      "cell_type": "code",
      "metadata": {
        "id": "cUgc_H4fxl0X"
      },
      "source": [
        "import pandas as pd\n",
        "import numpy as np\n",
        "import matplotlib.pyplot as plt\n",
        "import tensorflow as tf\n",
        "import seaborn as sns"
      ],
      "execution_count": 111,
      "outputs": []
    },
    {
      "cell_type": "code",
      "metadata": {
        "id": "-InBTrGOxs7r",
        "colab": {
          "base_uri": "https://localhost:8080/"
        },
        "outputId": "c4578fa6-7743-4270-9f68-b7e28f9189d9"
      },
      "source": [
        "d=pd.read_csv(\"vgsales.csv\")\n",
        "X1 = d.iloc[:, 0:5].values\n",
        "X = d.iloc[:, 6:-1].values\n",
        "y = d.iloc[:,-1 ].values\n",
        "print(tf.__version__)"
      ],
      "execution_count": 65,
      "outputs": [
        {
          "output_type": "stream",
          "text": [
            "2.4.1\n"
          ],
          "name": "stdout"
        }
      ]
    },
    {
      "cell_type": "code",
      "metadata": {
        "colab": {
          "base_uri": "https://localhost:8080/",
          "height": 195
        },
        "id": "koa7Cad8yTBo",
        "outputId": "4d0c5d4d-e73f-4dec-8748-540ef9224610"
      },
      "source": [
        "d.head()"
      ],
      "execution_count": 66,
      "outputs": [
        {
          "output_type": "execute_result",
          "data": {
            "text/html": [
              "<div>\n",
              "<style scoped>\n",
              "    .dataframe tbody tr th:only-of-type {\n",
              "        vertical-align: middle;\n",
              "    }\n",
              "\n",
              "    .dataframe tbody tr th {\n",
              "        vertical-align: top;\n",
              "    }\n",
              "\n",
              "    .dataframe thead th {\n",
              "        text-align: right;\n",
              "    }\n",
              "</style>\n",
              "<table border=\"1\" class=\"dataframe\">\n",
              "  <thead>\n",
              "    <tr style=\"text-align: right;\">\n",
              "      <th></th>\n",
              "      <th>Rank</th>\n",
              "      <th>Name</th>\n",
              "      <th>Platform</th>\n",
              "      <th>Year</th>\n",
              "      <th>Genre</th>\n",
              "      <th>Publisher</th>\n",
              "      <th>NA_Sales</th>\n",
              "      <th>EU_Sales</th>\n",
              "      <th>JP_Sales</th>\n",
              "      <th>Other_Sales</th>\n",
              "      <th>Global_Sales</th>\n",
              "    </tr>\n",
              "  </thead>\n",
              "  <tbody>\n",
              "    <tr>\n",
              "      <th>0</th>\n",
              "      <td>1</td>\n",
              "      <td>Wii Sports</td>\n",
              "      <td>Wii</td>\n",
              "      <td>2006.0</td>\n",
              "      <td>Sports</td>\n",
              "      <td>Nintendo</td>\n",
              "      <td>41.49</td>\n",
              "      <td>29.02</td>\n",
              "      <td>3.77</td>\n",
              "      <td>8.46</td>\n",
              "      <td>82.74</td>\n",
              "    </tr>\n",
              "    <tr>\n",
              "      <th>1</th>\n",
              "      <td>2</td>\n",
              "      <td>Super Mario Bros.</td>\n",
              "      <td>NES</td>\n",
              "      <td>1985.0</td>\n",
              "      <td>Platform</td>\n",
              "      <td>Nintendo</td>\n",
              "      <td>29.08</td>\n",
              "      <td>3.58</td>\n",
              "      <td>6.81</td>\n",
              "      <td>0.77</td>\n",
              "      <td>40.24</td>\n",
              "    </tr>\n",
              "    <tr>\n",
              "      <th>2</th>\n",
              "      <td>3</td>\n",
              "      <td>Mario Kart Wii</td>\n",
              "      <td>Wii</td>\n",
              "      <td>2008.0</td>\n",
              "      <td>Racing</td>\n",
              "      <td>Nintendo</td>\n",
              "      <td>15.85</td>\n",
              "      <td>12.88</td>\n",
              "      <td>3.79</td>\n",
              "      <td>3.31</td>\n",
              "      <td>35.82</td>\n",
              "    </tr>\n",
              "    <tr>\n",
              "      <th>3</th>\n",
              "      <td>4</td>\n",
              "      <td>Wii Sports Resort</td>\n",
              "      <td>Wii</td>\n",
              "      <td>2009.0</td>\n",
              "      <td>Sports</td>\n",
              "      <td>Nintendo</td>\n",
              "      <td>15.75</td>\n",
              "      <td>11.01</td>\n",
              "      <td>3.28</td>\n",
              "      <td>2.96</td>\n",
              "      <td>33.00</td>\n",
              "    </tr>\n",
              "    <tr>\n",
              "      <th>4</th>\n",
              "      <td>5</td>\n",
              "      <td>Pokemon Red/Pokemon Blue</td>\n",
              "      <td>GB</td>\n",
              "      <td>1996.0</td>\n",
              "      <td>Role-Playing</td>\n",
              "      <td>Nintendo</td>\n",
              "      <td>11.27</td>\n",
              "      <td>8.89</td>\n",
              "      <td>10.22</td>\n",
              "      <td>1.00</td>\n",
              "      <td>31.37</td>\n",
              "    </tr>\n",
              "  </tbody>\n",
              "</table>\n",
              "</div>"
            ],
            "text/plain": [
              "   Rank                      Name Platform  ...  JP_Sales Other_Sales Global_Sales\n",
              "0     1                Wii Sports      Wii  ...      3.77        8.46        82.74\n",
              "1     2         Super Mario Bros.      NES  ...      6.81        0.77        40.24\n",
              "2     3            Mario Kart Wii      Wii  ...      3.79        3.31        35.82\n",
              "3     4         Wii Sports Resort      Wii  ...      3.28        2.96        33.00\n",
              "4     5  Pokemon Red/Pokemon Blue       GB  ...     10.22        1.00        31.37\n",
              "\n",
              "[5 rows x 11 columns]"
            ]
          },
          "metadata": {
            "tags": []
          },
          "execution_count": 66
        }
      ]
    },
    {
      "cell_type": "code",
      "metadata": {
        "colab": {
          "base_uri": "https://localhost:8080/"
        },
        "id": "F7x5RDRz1mgd",
        "outputId": "28ca321c-ab00-4f24-c63c-2d59419c92c8"
      },
      "source": [
        "print(d.shape)"
      ],
      "execution_count": 87,
      "outputs": [
        {
          "output_type": "stream",
          "text": [
            "(16291, 11)\n"
          ],
          "name": "stdout"
        }
      ]
    },
    {
      "cell_type": "code",
      "metadata": {
        "colab": {
          "base_uri": "https://localhost:8080/"
        },
        "id": "jPRPmEIFenfT",
        "outputId": "1bcfca0f-9ed0-4d38-ae8f-336acb375d11"
      },
      "source": [
        "d.nunique()"
      ],
      "execution_count": 107,
      "outputs": [
        {
          "output_type": "execute_result",
          "data": {
            "text/plain": [
              "Rank            16291\n",
              "Name            11325\n",
              "Platform           31\n",
              "Year               39\n",
              "Genre              12\n",
              "Publisher         576\n",
              "NA_Sales          408\n",
              "EU_Sales          305\n",
              "JP_Sales          244\n",
              "Other_Sales       157\n",
              "Global_Sales      621\n",
              "dtype: int64"
            ]
          },
          "metadata": {
            "tags": []
          },
          "execution_count": 107
        }
      ]
    },
    {
      "cell_type": "code",
      "metadata": {
        "colab": {
          "base_uri": "https://localhost:8080/"
        },
        "id": "VQdGmqqO9zh5",
        "outputId": "febfbbe3-c1a4-4910-b123-8824cf37777f"
      },
      "source": [
        "d['Name'] = d['Name'].astype('category')\n",
        "d['Name'].dtypes"
      ],
      "execution_count": 68,
      "outputs": [
        {
          "output_type": "execute_result",
          "data": {
            "text/plain": [
              "CategoricalDtype(categories=[''98 Koshien', '.hack//G.U. Vol.1//Rebirth',\n",
              "                  '.hack//G.U. Vol.2//Reminisce',\n",
              "                  '.hack//G.U. Vol.2//Reminisce (jp sales)',\n",
              "                  '.hack//G.U. Vol.3//Redemption', '.hack//Infection Part 1',\n",
              "                  '.hack//Link', '.hack//Mutation Part 2',\n",
              "                  '.hack//Outbreak Part 3',\n",
              "                  '.hack//Quarantine Part 4: The Final Chapter',\n",
              "                  ...\n",
              "                  'nail'd', 'pro evolution soccer 2011', 'th!nk Logic Trainer',\n",
              "                  'thinkSMART', 'thinkSMART FAMILY!',\n",
              "                  'thinkSMART: Chess for Kids', 'uDraw Studio',\n",
              "                  'uDraw Studio: Instant Artist', 'wwe Smackdown vs. Raw 2006',\n",
              "                  '¡Shin Chan Flipa en colores!'],\n",
              "                 ordered=False)"
            ]
          },
          "metadata": {
            "tags": []
          },
          "execution_count": 68
        }
      ]
    },
    {
      "cell_type": "code",
      "metadata": {
        "colab": {
          "base_uri": "https://localhost:8080/"
        },
        "id": "1CVEumaQDHnH",
        "outputId": "21588270-baec-4f58-b11f-7016ca74938b"
      },
      "source": [
        "n = d.nunique(axis=0)\n",
        "n"
      ],
      "execution_count": 69,
      "outputs": [
        {
          "output_type": "execute_result",
          "data": {
            "text/plain": [
              "Rank            16598\n",
              "Name            11493\n",
              "Platform           31\n",
              "Year               39\n",
              "Genre              12\n",
              "Publisher         578\n",
              "NA_Sales          409\n",
              "EU_Sales          305\n",
              "JP_Sales          244\n",
              "Other_Sales       157\n",
              "Global_Sales      623\n",
              "dtype: int64"
            ]
          },
          "metadata": {
            "tags": []
          },
          "execution_count": 69
        }
      ]
    },
    {
      "cell_type": "code",
      "metadata": {
        "id": "L55t46o_Ph_4"
      },
      "source": [
        "d.dropna(inplace = True)"
      ],
      "execution_count": 70,
      "outputs": []
    },
    {
      "cell_type": "code",
      "metadata": {
        "id": "MFtZm8r8S1E5"
      },
      "source": [
        "# d[\"Publisher\"] = d[\"Publisher\"].astype(str).str.replace('<',' ')"
      ],
      "execution_count": 71,
      "outputs": []
    },
    {
      "cell_type": "code",
      "metadata": {
        "id": "6HG794SETmu2"
      },
      "source": [
        "# d[\"Publisher\"].dtype"
      ],
      "execution_count": 72,
      "outputs": []
    },
    {
      "cell_type": "markdown",
      "metadata": {
        "id": "LMHCLoH76Vzt"
      },
      "source": [
        "## Missing Data Fixed"
      ]
    },
    {
      "cell_type": "code",
      "metadata": {
        "id": "FEt5Qu2r6Tpk"
      },
      "source": [
        "from sklearn.impute import SimpleImputer\n",
        "imputer = SimpleImputer(missing_values=np.nan, strategy='mean')\n",
        "imputer.fit(X)\n",
        "X = imputer.transform(X)"
      ],
      "execution_count": 73,
      "outputs": []
    },
    {
      "cell_type": "markdown",
      "metadata": {
        "id": "7lhfxMin432V"
      },
      "source": [
        "## Label Encoding"
      ]
    },
    {
      "cell_type": "code",
      "metadata": {
        "id": "4PWoWmheybEo"
      },
      "source": [
        "# from sklearn.compose import ColumnTransformer\n",
        "# from sklearn.preprocessing import OneHotEncoder\n",
        "# ct = ColumnTransformer(transformers=[('encoder', OneHotEncoder(), [0])], remainder='passthrough')\n",
        "# X[:,1:2] = np.array(ct.fit_transform(X[:,1:2]))\n",
        "# X[:,4:5] = np.array(ct.fit_transform(X[:,4:5]))"
      ],
      "execution_count": 74,
      "outputs": []
    },
    {
      "cell_type": "code",
      "metadata": {
        "id": "Sjt5cXe8_uJt"
      },
      "source": [
        "from sklearn.preprocessing import LabelEncoder\n",
        "le = LabelEncoder()\n",
        "X1[:, 1] = le.fit_transform(X1[:, 1])\n",
        "X1[:, 2] = le.fit_transform(X1[:, 2])\n",
        "X1[:, 4] = le.fit_transform(X1[:, 4])"
      ],
      "execution_count": 75,
      "outputs": []
    },
    {
      "cell_type": "code",
      "metadata": {
        "colab": {
          "base_uri": "https://localhost:8080/"
        },
        "id": "AbQxXbHnAqoH",
        "outputId": "ebdcb276-f9e9-4a4f-bcf4-9d6d257fbeec"
      },
      "source": [
        "X[:,1]"
      ],
      "execution_count": 76,
      "outputs": [
        {
          "output_type": "execute_result",
          "data": {
            "text/plain": [
              "array([2.902e+01, 3.580e+00, 1.288e+01, ..., 0.000e+00, 1.000e-02,\n",
              "       0.000e+00])"
            ]
          },
          "metadata": {
            "tags": []
          },
          "execution_count": 76
        }
      ]
    },
    {
      "cell_type": "markdown",
      "metadata": {
        "id": "c16ciT7z6eKa"
      },
      "source": [
        "## Splitting the Dataset into Training and Test Set"
      ]
    },
    {
      "cell_type": "code",
      "metadata": {
        "id": "LBUXaj43yn6G"
      },
      "source": [
        "from sklearn.model_selection import train_test_split\n",
        "X_train, X_test, y_train, y_test = train_test_split(X, y, test_size = 1/3, random_state = 0)"
      ],
      "execution_count": 77,
      "outputs": []
    },
    {
      "cell_type": "code",
      "metadata": {
        "colab": {
          "base_uri": "https://localhost:8080/"
        },
        "id": "zmwKXS8k0ANV",
        "outputId": "f96b0a6f-13ae-4097-9d6f-54866a8704aa"
      },
      "source": [
        "print(X_train)\n",
        "print(X_test)"
      ],
      "execution_count": 78,
      "outputs": [
        {
          "output_type": "stream",
          "text": [
            "[[0.1  0.03 0.   0.  ]\n",
            " [0.01 0.   0.   0.  ]\n",
            " [0.05 0.02 0.   0.  ]\n",
            " ...\n",
            " [0.   0.   0.12 0.  ]\n",
            " [0.08 0.01 0.   0.01]\n",
            " [0.41 0.21 0.   0.14]]\n",
            "[[0.47 0.53 0.03 0.22]\n",
            " [0.08 0.06 0.19 0.02]\n",
            " [0.09 0.06 0.11 0.02]\n",
            " ...\n",
            " [0.03 0.01 0.   0.  ]\n",
            " [0.07 0.   0.   0.01]\n",
            " [0.05 0.05 0.   0.01]]\n"
          ],
          "name": "stdout"
        }
      ]
    },
    {
      "cell_type": "code",
      "metadata": {
        "colab": {
          "base_uri": "https://localhost:8080/"
        },
        "id": "tpNKerUk6k_b",
        "outputId": "b7f6ea23-29f1-42e6-826b-6efd4af39502"
      },
      "source": [
        "print(y_train)\n",
        "print(y_test)"
      ],
      "execution_count": 79,
      "outputs": [
        {
          "output_type": "stream",
          "text": [
            "[0.13 0.01 0.07 ... 0.12 0.1  0.75]\n",
            "[1.25 0.34 0.27 ... 0.04 0.08 0.11]\n"
          ],
          "name": "stdout"
        }
      ]
    },
    {
      "cell_type": "markdown",
      "metadata": {
        "id": "PkIJgOrx4hdQ"
      },
      "source": [
        "## Feature Scaling\n"
      ]
    },
    {
      "cell_type": "code",
      "metadata": {
        "id": "AXkTDHpl8aH2"
      },
      "source": [
        "from sklearn.preprocessing import StandardScaler\n",
        "sc = StandardScaler()\n",
        "X_train = sc.fit_transform(X_train)\n",
        "X_test = sc.transform(X_test)"
      ],
      "execution_count": 80,
      "outputs": []
    },
    {
      "cell_type": "markdown",
      "metadata": {
        "id": "H7RCzzzL4oSO"
      },
      "source": [
        "## Plots"
      ]
    },
    {
      "cell_type": "code",
      "metadata": {
        "colab": {
          "base_uri": "https://localhost:8080/",
          "height": 0
        },
        "id": "rP8HoA4p55u-",
        "outputId": "9baf3bd4-7ba3-42d2-c6c1-21513464dafb"
      },
      "source": [
        "a=d[\"EU_Sales\"]\n",
        "b=d[\"NA_Sales\"]\n",
        "plt.scatter(a,b)\n",
        "# plt.plot(X_train, regressor.predict(X), color = 'blue')\n",
        "plt.title('Correlation between sales in Europe and North America')\n",
        "plt.xlabel('EU Sales');\n",
        "plt.ylabel('NA Sales');"
      ],
      "execution_count": 146,
      "outputs": [
        {
          "output_type": "display_data",
          "data": {
            "image/png": "[encoded data removed]",
            "text/plain": [
              "<Figure size 432x288 with 1 Axes>"
            ]
          },
          "metadata": {
            "tags": [],
            "needs_background": "light"
          }
        }
      ]
    },
    {
      "cell_type": "code",
      "metadata": {
        "colab": {
          "base_uri": "https://localhost:8080/",
          "height": 0
        },
        "id": "XMRJOu2axHOw",
        "outputId": "aa146291-22f4-4c3f-a925-b47497042b07"
      },
      "source": [
        "a=d[\"EU_Sales\"]\n",
        "b=d[\"Other_Sales\"]\n",
        "plt.scatter(a,b)\n",
        "# plt.plot(X_train, regressor.predict(X), color = 'blue')\n",
        "plt.title('Correlation between sales in Europe and Other places')\n",
        "plt.xlabel('EU Sales');\n",
        "plt.ylabel('Other Sales');"
      ],
      "execution_count": 147,
      "outputs": [
        {
          "output_type": "display_data",
          "data": {
            "image/png": "[encoded data removed]",
            "text/plain": [
              "<Figure size 432x288 with 1 Axes>"
            ]
          },
          "metadata": {
            "tags": [],
            "needs_background": "light"
          }
        }
      ]
    },
    {
      "cell_type": "code",
      "metadata": {
        "colab": {
          "base_uri": "https://localhost:8080/"
        },
        "id": "bEsHXFhHEt4P",
        "outputId": "ee14b744-ce29-453f-c3bd-741896e160be"
      },
      "source": [
        "visited = []\n",
        "d1=d['Genre'].tolist()\n",
        "for i in range(0, len(d1)):\n",
        "    if d1[i] not in visited: \n",
        "        visited.append(d1[i])\n",
        "print(\"unique values :\", visited)"
      ],
      "execution_count": 148,
      "outputs": [
        {
          "output_type": "stream",
          "text": [
            "unique values : ['Sports', 'Platform', 'Racing', 'Role-Playing', 'Puzzle', 'Misc', 'Shooter', 'Simulation', 'Action', 'Fighting', 'Adventure', 'Strategy']\n"
          ],
          "name": "stdout"
        }
      ]
    },
    {
      "cell_type": "code",
      "metadata": {
        "colab": {
          "base_uri": "https://localhost:8080/"
        },
        "id": "OxrQgJDFCFV1",
        "outputId": "871d5f18-fbbc-4fa4-fa04-3eb1f7c44ba5"
      },
      "source": [
        "d2={}\n",
        "d2[0]=d[\"Genre\"].isin(['Sports']).sum(axis=0)\n",
        "d2[1]=d[\"Genre\"].isin(['Platform']).sum(axis=0)\n",
        "d2[2]=d[\"Genre\"].isin(['Racing']).sum(axis=0)\n",
        "d2[3]=d[\"Genre\"].isin(['Role-Play']).sum(axis=0)\n",
        "d2[4]=d[\"Genre\"].isin(['Puzzle']).sum(axis=0)\n",
        "d2[5]=d[\"Genre\"].isin(['Misc']).sum(axis=0)\n",
        "d2[6]=d[\"Genre\"].isin(['Shooter']).sum(axis=0)\n",
        "d2[7]=d[\"Genre\"].isin(['Simulation']).sum(axis=0)\n",
        "d2[8]=d[\"Genre\"].isin(['Action']).sum(axis=0)\n",
        "d2[9]=d[\"Genre\"].isin(['Fighting']).sum(axis=0)\n",
        "d2[10]=d[\"Genre\"].isin(['Adventure']).sum(axis=0)\n",
        "d2[11]=d[\"Genre\"].isin(['Strategy']).sum(axis=0)\n",
        "d2"
      ],
      "execution_count": 149,
      "outputs": [
        {
          "output_type": "execute_result",
          "data": {
            "text/plain": [
              "{0: 2304,\n",
              " 1: 875,\n",
              " 2: 1225,\n",
              " 3: 0,\n",
              " 4: 570,\n",
              " 5: 1686,\n",
              " 6: 1282,\n",
              " 7: 848,\n",
              " 8: 3251,\n",
              " 9: 836,\n",
              " 10: 1274,\n",
              " 11: 670}"
            ]
          },
          "metadata": {
            "tags": []
          },
          "execution_count": 149
        }
      ]
    },
    {
      "cell_type": "markdown",
      "metadata": {
        "id": "LyW1qTqm4u4w"
      },
      "source": [
        "## Searching and Plots"
      ]
    },
    {
      "cell_type": "code",
      "metadata": {
        "colab": {
          "base_uri": "https://localhost:8080/",
          "height": 498
        },
        "id": "DmIJk1B8wDeC",
        "outputId": "1ae2705b-0d5e-41e2-de8e-e63a2d856036"
      },
      "source": [
        "x = input(\"Enter the name of the game:\")\n",
        "i=0\n",
        "j=0\n",
        "d1 = d[\"Name\"].tolist()\n",
        "while (i<16291):\n",
        "      if x == d1[i] :\n",
        "        print(d.loc[i,:])\n",
        "        y=np.array([d.iloc[i]['NA_Sales'],d.iloc[i]['EU_Sales'],d.iloc[i]['JP_Sales'],d.iloc[i]['Other_Sales'],d.iloc[i][\"Global_Sales\"]])\n",
        "        l= [\"NA_Sales\",\"EU_Sales\",\"JP_Sales\",\"Other_Sales\",\"Global_Sales\"]\n",
        "        plt.plot(l,y,'ro')\n",
        "        plt.xlabel('Sales');\n",
        "        plt.ylabel('Amount');\n",
        "        plt.show\n",
        "      elif ( i == 16588 ):\n",
        "        print(\"No such game found\")\n",
        "      i=i+1"
      ],
      "execution_count": 88,
      "outputs": [
        {
          "output_type": "stream",
          "text": [
            "Enter the name of the game:Wii Sports\n",
            "Rank                     1\n",
            "Name            Wii Sports\n",
            "Platform               Wii\n",
            "Year                  2006\n",
            "Genre               Sports\n",
            "Publisher         Nintendo\n",
            "NA_Sales             41.49\n",
            "EU_Sales             29.02\n",
            "JP_Sales              3.77\n",
            "Other_Sales           8.46\n",
            "Global_Sales         82.74\n",
            "Name: 0, dtype: object\n"
          ],
          "name": "stdout"
        },
        {
          "output_type": "display_data",
          "data": {
            "image/png": "[encoded data removed]",
            "text/plain": [
              "<Figure size 432x288 with 1 Axes>"
            ]
          },
          "metadata": {
            "tags": [],
            "needs_background": "light"
          }
        }
      ]
    },
    {
      "cell_type": "code",
      "metadata": {
        "colab": {
          "base_uri": "https://localhost:8080/",
          "height": 483
        },
        "id": "mWBnuhaA0l1N",
        "outputId": "0b7ccbd1-1755-4bb6-a172-9c4ef724e20b"
      },
      "source": [
        "x = input(\"Enter the name of the game:\")\n",
        "i=0\n",
        "j=0\n",
        "d1 = d[\"Name\"].tolist()\n",
        "while (i<16291):\n",
        "      if x == d1[i] :\n",
        "        print(d.loc[i,:])\n",
        "        print(d.iloc[i]['NA_Sales'])\n",
        "        y=np.array([d.iloc[i]['NA_Sales'],d.iloc[i]['EU_Sales'],d.iloc[i]['JP_Sales'],d.iloc[i]['Other_Sales']])\n",
        "        l= [\"NA_Sales\",\"EU_Sales\",\"JP_Sales\",\"Other_Sales\"]\n",
        "        plt.pie(y,labels=l)\n",
        "        plt.show\n",
        "      elif ( i == 16588 ):\n",
        "        print(\"No such game found\")\n",
        "      i=i+1"
      ],
      "execution_count": 89,
      "outputs": [
        {
          "output_type": "stream",
          "text": [
            "Enter the name of the game:Wii Sports Resort\n",
            "Rank                            4\n",
            "Name            Wii Sports Resort\n",
            "Platform                      Wii\n",
            "Year                         2009\n",
            "Genre                      Sports\n",
            "Publisher                Nintendo\n",
            "NA_Sales                    15.75\n",
            "EU_Sales                    11.01\n",
            "JP_Sales                     3.28\n",
            "Other_Sales                  2.96\n",
            "Global_Sales                   33\n",
            "Name: 3, dtype: object\n",
            "15.75\n"
          ],
          "name": "stdout"
        },
        {
          "output_type": "display_data",
          "data": {
            "image/png": "[encoded data removed]",
            "text/plain": [
              "<Figure size 432x288 with 1 Axes>"
            ]
          },
          "metadata": {
            "tags": []
          }
        }
      ]
    },
    {
      "cell_type": "code",
      "metadata": {
        "id": "wgcUIvTF5ffs",
        "colab": {
          "base_uri": "https://localhost:8080/"
        },
        "outputId": "5a5d9e13-54cb-463e-b4ec-3f1486b76a2e"
      },
      "source": [
        "x = input(\"Enter the column name except global sales(Excluding Wii Sports) :\")\n",
        "c = input(\"1 for max 2 for min :\")\n",
        "i=1\n",
        "j=0\n",
        "max=0\n",
        "min=100000000000\n",
        "d1 = d[x].tolist()\n",
        "if c==\"1\" :\n",
        "  while (i<16291):\n",
        "      if d1[i]>max :\n",
        "        max=d1[i]\n",
        "        j=i\n",
        "      i=i+1\n",
        "elif c==\"2\" :\n",
        "  while (i<16598):\n",
        "      if d1[i]<min :\n",
        "        min=d1[i]\n",
        "        j=i\n",
        "      i=i+1\n",
        "else :\n",
        "  print(\"Enter number 1 or 2 please\")\n",
        "print(d.loc[j,:])"
      ],
      "execution_count": 90,
      "outputs": [
        {
          "output_type": "stream",
          "text": [
            "Enter the column name except global sales(Excluding Wii Sports) :EU_Sales\n",
            "1 for max 2 for min :1\n",
            "Rank                         3\n",
            "Name            Mario Kart Wii\n",
            "Platform                   Wii\n",
            "Year                      2008\n",
            "Genre                   Racing\n",
            "Publisher             Nintendo\n",
            "NA_Sales                 15.85\n",
            "EU_Sales                 12.88\n",
            "JP_Sales                  3.79\n",
            "Other_Sales               3.31\n",
            "Global_Sales             35.82\n",
            "Name: 2, dtype: object\n"
          ],
          "name": "stdout"
        }
      ]
    },
    {
      "cell_type": "markdown",
      "metadata": {
        "id": "r7JlHZhBVXvX"
      },
      "source": [
        "##Linear Regression"
      ]
    },
    {
      "cell_type": "code",
      "metadata": {
        "colab": {
          "base_uri": "https://localhost:8080/"
        },
        "id": "B5p-B8GS5n_e",
        "outputId": "04beeea3-da0d-4acc-8a4e-3f2c65c8c660"
      },
      "source": [
        "from sklearn.linear_model import LinearRegression\n",
        "lr=LinearRegression()\n",
        "lr.fit(X_train,y_train)"
      ],
      "execution_count": 91,
      "outputs": [
        {
          "output_type": "execute_result",
          "data": {
            "text/plain": [
              "LinearRegression(copy_X=True, fit_intercept=True, n_jobs=None, normalize=False)"
            ]
          },
          "metadata": {
            "tags": []
          },
          "execution_count": 91
        }
      ]
    },
    {
      "cell_type": "code",
      "metadata": {
        "id": "H0AsUg0VLmB7"
      },
      "source": [
        "y_pred = lr.predict(X_test)"
      ],
      "execution_count": 92,
      "outputs": []
    },
    {
      "cell_type": "code",
      "metadata": {
        "colab": {
          "base_uri": "https://localhost:8080/"
        },
        "id": "ssdGpdEGadH7",
        "outputId": "468a5e1a-76f1-4a3b-afb8-160b5a3e1c8d"
      },
      "source": [
        "from sklearn.metrics import r2_score\n",
        "r2_Linear = r2_score(y_test,y_pred)\n",
        "print(r2_Linear)"
      ],
      "execution_count": 93,
      "outputs": [
        {
          "output_type": "stream",
          "text": [
            "0.999986615586665\n"
          ],
          "name": "stdout"
        }
      ]
    },
    {
      "cell_type": "markdown",
      "metadata": {
        "id": "_cYmvYbbQmsu"
      },
      "source": [
        "## Multi Linear Regression"
      ]
    },
    {
      "cell_type": "code",
      "metadata": {
        "id": "7gWSmRGF-60k"
      },
      "source": [
        "from sklearn.linear_model import LinearRegression\n",
        "mregressor = LinearRegression()\n",
        "mregressor.fit(X_train, y_train)"
      ],
      "execution_count": null,
      "outputs": []
    },
    {
      "cell_type": "code",
      "metadata": {
        "id": "wfcGLlR1QuDi"
      },
      "source": [
        "y_pred = mregressor.predict(X_test)"
      ],
      "execution_count": null,
      "outputs": []
    },
    {
      "cell_type": "code",
      "metadata": {
        "id": "Zjn2EzXdVyQ_"
      },
      "source": [
        "y_pred.shape"
      ],
      "execution_count": null,
      "outputs": []
    },
    {
      "cell_type": "code",
      "metadata": {
        "id": "YKV0zJzwL3NR"
      },
      "source": [
        "X_test"
      ],
      "execution_count": null,
      "outputs": []
    },
    {
      "cell_type": "code",
      "metadata": {
        "id": "kngMOOcrU--3"
      },
      "source": [
        "from sklearn.metrics import r2_score\n",
        "r2_MLinear = r2_score(y_test,y_pred)\n",
        "print(r2_MLinear)"
      ],
      "execution_count": null,
      "outputs": []
    },
    {
      "cell_type": "markdown",
      "metadata": {
        "id": "Z0gU-wt2WjFd"
      },
      "source": [
        "## Polynomial Regression"
      ]
    },
    {
      "cell_type": "code",
      "metadata": {
        "id": "5IBsN0uzLqOt"
      },
      "source": [
        "from sklearn.preprocessing import PolynomialFeatures\n",
        "poly_reg = PolynomialFeatures(degree = 4)\n",
        "X_poly = poly_reg.fit_transform(X)\n",
        "lin_reg_2 = LinearRegression()\n",
        "lin_reg_2.fit(X_poly, y)"
      ],
      "execution_count": null,
      "outputs": []
    },
    {
      "cell_type": "code",
      "metadata": {
        "id": "GYgRM5erYDmV"
      },
      "source": [
        "from sklearn.metrics import r2_score\n",
        "r2_RLinear = r2_score(y_test,y_pred)\n",
        "print(r2_RLinear)"
      ],
      "execution_count": null,
      "outputs": []
    },
    {
      "cell_type": "markdown",
      "metadata": {
        "id": "kagZqCdLbuWB"
      },
      "source": [
        "## Non Linear SVM"
      ]
    },
    {
      "cell_type": "code",
      "metadata": {
        "id": "MtLdxGjcbIlF"
      },
      "source": [
        "from sklearn.svm import SVR\n",
        "regressor = SVR(kernel = 'rbf')\n",
        "regressor.fit(X_train, y_train)"
      ],
      "execution_count": null,
      "outputs": []
    },
    {
      "cell_type": "code",
      "metadata": {
        "id": "R4wqFYjwbtHt"
      },
      "source": [
        "y_pred = regressor.predict(X_test)"
      ],
      "execution_count": null,
      "outputs": []
    },
    {
      "cell_type": "code",
      "metadata": {
        "id": "qGvW4t0ub2pW"
      },
      "source": [
        "r2_NonlinearSVR = r2_score(y_test,y_pred)\n",
        "print(r2_NonlinearSVR)"
      ],
      "execution_count": null,
      "outputs": []
    },
    {
      "cell_type": "markdown",
      "metadata": {
        "id": "15LiPnj7cYun"
      },
      "source": [
        "## Decision Tree"
      ]
    },
    {
      "cell_type": "code",
      "metadata": {
        "id": "U2c0RkZtb9Oc"
      },
      "source": [
        "from sklearn.tree import DecisionTreeRegressor\n",
        "dt = DecisionTreeRegressor(random_state = 0)\n",
        "dt.fit(X_train, y_train)"
      ],
      "execution_count": null,
      "outputs": []
    },
    {
      "cell_type": "code",
      "metadata": {
        "id": "tNrpsepfcfSu"
      },
      "source": [
        "y_pred=dt.predict(X_test)"
      ],
      "execution_count": null,
      "outputs": []
    },
    {
      "cell_type": "code",
      "metadata": {
        "id": "rBJ8Qvojcwol"
      },
      "source": [
        "r2_dt=r2_score(y_test,y_pred)\n",
        "print(r2_dt)"
      ],
      "execution_count": null,
      "outputs": []
    },
    {
      "cell_type": "markdown",
      "metadata": {
        "id": "StG0dZFGaWq-"
      },
      "source": [
        "## Random Forest"
      ]
    },
    {
      "cell_type": "code",
      "metadata": {
        "id": "jIeA35m59Tnz"
      },
      "source": [
        "from sklearn.ensemble import RandomForestRegressor\n",
        "rf = RandomForestRegressor(n_estimators = 10, random_state=0)\n",
        "rf.fit(X_train, y_train)"
      ],
      "execution_count": null,
      "outputs": []
    },
    {
      "cell_type": "code",
      "metadata": {
        "id": "Jefh4S18zurT"
      },
      "source": [
        "y_pred = rf.predict(X_test)"
      ],
      "execution_count": null,
      "outputs": []
    },
    {
      "cell_type": "code",
      "metadata": {
        "id": "JKlKr2Pvzn7N"
      },
      "source": [
        "r2_rf = r2_score(y_test,y_pred)\n",
        "print(r2_rf)"
      ],
      "execution_count": null,
      "outputs": []
    },
    {
      "cell_type": "markdown",
      "metadata": {
        "id": "sGZ7W3UseL7S"
      },
      "source": [
        "## Comparing r2 scores"
      ]
    },
    {
      "cell_type": "code",
      "metadata": {
        "id": "dydeaD9XeYJV"
      },
      "source": [
        "labelList = ['Linear Regression','Multiple Linear Reg.','Polynomial Reg.','Decision Tree','Random Forest','Non-Linear SVR']\n",
        "mylist = [r2_Linear,r2_MLinear,r2_RLinear,r2_NonlinearSVR,r2_rf,r2_dt]\n",
        "for i in range(0,len(mylist)):\n",
        "    mylist[i]=np.round(mylist[i]*100,decimals=3)\n",
        "print(mylist)"
      ],
      "execution_count": null,
      "outputs": []
    },
    {
      "cell_type": "code",
      "metadata": {
        "id": "x-1vsVlrdTqV"
      },
      "source": [
        "plt.figure(figsize=(14,8))\n",
        "ax = sns.barplot(x=labelList,y=mylist)\n",
        "plt.yticks(np.arange(0, 101, step=10))\n",
        "plt.title('r2 score comparison among different regression models',fontweight='bold')\n",
        "for p in ax.patches:\n",
        "    width, height = p.get_width(), p.get_height()\n",
        "    x, y = p.get_xy() \n",
        "    ax.annotate('{:.3f}%'.format(height), (x +0.25, y + height + 0.8))\n",
        "plt.show()"
      ],
      "execution_count": null,
      "outputs": []
    },
    {
      "cell_type": "code",
      "metadata": {
        "id": "0enZ3weLePvt"
      },
      "source": [
        "plt.pie(mylist,labels=labelList)\n",
        "plt.show()"
      ],
      "execution_count": null,
      "outputs": []
    },
    {
      "cell_type": "code",
      "metadata": {
        "id": "kofd2IyoY8nH"
      },
      "source": [
        ""
      ],
      "execution_count": null,
      "outputs": []
    }
  ]
}
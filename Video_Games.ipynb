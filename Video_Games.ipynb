{
  "nbformat": 4,
  "nbformat_minor": 0,
  "metadata": {
    "colab": {
      "name": "Video Games.ipynb",
      "provenance": [],
      "toc_visible": true
    },
    "kernelspec": {
      "name": "python3",
      "display_name": "Python 3"
    }
  },
  "cells": [
    {
      "cell_type": "markdown",
      "metadata": {
        "id": "aYd7EFfc5FVU"
      },
      "source": [
        "# **Video Game Sales Data Analytics** "
      ]
    },
    {
      "cell_type": "markdown",
      "metadata": {
        "id": "LnPi0QVb5LUc"
      },
      "source": [
        "## Importing and Preprocessing"
      ]
    },
    {
      "cell_type": "code",
      "metadata": {
        "id": "cUgc_H4fxl0X"
      },
      "source": [
        "import pandas as pd\n",
        "import numpy as np\n",
        "import matplotlib.pyplot as plt\n",
        "import tensorflow as tf\n",
        "import seaborn as sns"
      ],
      "execution_count": 5,
      "outputs": []
    },
    {
      "cell_type": "code",
      "metadata": {
        "id": "-InBTrGOxs7r",
        "colab": {
          "base_uri": "https://localhost:8080/"
        },
        "outputId": "f6e6fbcd-b570-4a08-c05b-5f7534771f2b"
      },
      "source": [
        "d=pd.read_csv(\"vgsales.csv\")\n",
        "X1 = d.iloc[:, 0:5].values\n",
        "X = d.iloc[:, 6:-1].values\n",
        "y = d.iloc[:,-1 ].values\n",
        "print(tf.__version__)"
      ],
      "execution_count": 6,
      "outputs": [
        {
          "output_type": "stream",
          "text": [
            "2.4.1\n"
          ],
          "name": "stdout"
        }
      ]
    },
    {
      "cell_type": "code",
      "metadata": {
        "colab": {
          "base_uri": "https://localhost:8080/",
          "height": 0
        },
        "id": "koa7Cad8yTBo",
        "outputId": "6fc6a78b-0cf2-4b0d-9372-21c6f0382013"
      },
      "source": [
        "d.head()"
      ],
      "execution_count": 7,
      "outputs": [
        {
          "output_type": "execute_result",
          "data": {
            "text/html": [
              "<div>\n",
              "<style scoped>\n",
              "    .dataframe tbody tr th:only-of-type {\n",
              "        vertical-align: middle;\n",
              "    }\n",
              "\n",
              "    .dataframe tbody tr th {\n",
              "        vertical-align: top;\n",
              "    }\n",
              "\n",
              "    .dataframe thead th {\n",
              "        text-align: right;\n",
              "    }\n",
              "</style>\n",
              "<table border=\"1\" class=\"dataframe\">\n",
              "  <thead>\n",
              "    <tr style=\"text-align: right;\">\n",
              "      <th></th>\n",
              "      <th>Rank</th>\n",
              "      <th>Name</th>\n",
              "      <th>Platform</th>\n",
              "      <th>Year</th>\n",
              "      <th>Genre</th>\n",
              "      <th>Publisher</th>\n",
              "      <th>NA_Sales</th>\n",
              "      <th>EU_Sales</th>\n",
              "      <th>JP_Sales</th>\n",
              "      <th>Other_Sales</th>\n",
              "      <th>Global_Sales</th>\n",
              "    </tr>\n",
              "  </thead>\n",
              "  <tbody>\n",
              "    <tr>\n",
              "      <th>0</th>\n",
              "      <td>1</td>\n",
              "      <td>Wii Sports</td>\n",
              "      <td>Wii</td>\n",
              "      <td>2006.0</td>\n",
              "      <td>Sports</td>\n",
              "      <td>Nintendo</td>\n",
              "      <td>41.49</td>\n",
              "      <td>29.02</td>\n",
              "      <td>3.77</td>\n",
              "      <td>8.46</td>\n",
              "      <td>82.74</td>\n",
              "    </tr>\n",
              "    <tr>\n",
              "      <th>1</th>\n",
              "      <td>2</td>\n",
              "      <td>Super Mario Bros.</td>\n",
              "      <td>NES</td>\n",
              "      <td>1985.0</td>\n",
              "      <td>Platform</td>\n",
              "      <td>Nintendo</td>\n",
              "      <td>29.08</td>\n",
              "      <td>3.58</td>\n",
              "      <td>6.81</td>\n",
              "      <td>0.77</td>\n",
              "      <td>40.24</td>\n",
              "    </tr>\n",
              "    <tr>\n",
              "      <th>2</th>\n",
              "      <td>3</td>\n",
              "      <td>Mario Kart Wii</td>\n",
              "      <td>Wii</td>\n",
              "      <td>2008.0</td>\n",
              "      <td>Racing</td>\n",
              "      <td>Nintendo</td>\n",
              "      <td>15.85</td>\n",
              "      <td>12.88</td>\n",
              "      <td>3.79</td>\n",
              "      <td>3.31</td>\n",
              "      <td>35.82</td>\n",
              "    </tr>\n",
              "    <tr>\n",
              "      <th>3</th>\n",
              "      <td>4</td>\n",
              "      <td>Wii Sports Resort</td>\n",
              "      <td>Wii</td>\n",
              "      <td>2009.0</td>\n",
              "      <td>Sports</td>\n",
              "      <td>Nintendo</td>\n",
              "      <td>15.75</td>\n",
              "      <td>11.01</td>\n",
              "      <td>3.28</td>\n",
              "      <td>2.96</td>\n",
              "      <td>33.00</td>\n",
              "    </tr>\n",
              "    <tr>\n",
              "      <th>4</th>\n",
              "      <td>5</td>\n",
              "      <td>Pokemon Red/Pokemon Blue</td>\n",
              "      <td>GB</td>\n",
              "      <td>1996.0</td>\n",
              "      <td>Role-Playing</td>\n",
              "      <td>Nintendo</td>\n",
              "      <td>11.27</td>\n",
              "      <td>8.89</td>\n",
              "      <td>10.22</td>\n",
              "      <td>1.00</td>\n",
              "      <td>31.37</td>\n",
              "    </tr>\n",
              "  </tbody>\n",
              "</table>\n",
              "</div>"
            ],
            "text/plain": [
              "   Rank                      Name Platform  ...  JP_Sales Other_Sales Global_Sales\n",
              "0     1                Wii Sports      Wii  ...      3.77        8.46        82.74\n",
              "1     2         Super Mario Bros.      NES  ...      6.81        0.77        40.24\n",
              "2     3            Mario Kart Wii      Wii  ...      3.79        3.31        35.82\n",
              "3     4         Wii Sports Resort      Wii  ...      3.28        2.96        33.00\n",
              "4     5  Pokemon Red/Pokemon Blue       GB  ...     10.22        1.00        31.37\n",
              "\n",
              "[5 rows x 11 columns]"
            ]
          },
          "metadata": {
            "tags": []
          },
          "execution_count": 7
        }
      ]
    },
    {
      "cell_type": "code",
      "metadata": {
        "colab": {
          "base_uri": "https://localhost:8080/"
        },
        "id": "F7x5RDRz1mgd",
        "outputId": "01ef8a40-64d9-409e-ce91-d2057b889a3f"
      },
      "source": [
        "print(d.shape)"
      ],
      "execution_count": 8,
      "outputs": [
        {
          "output_type": "stream",
          "text": [
            "(16598, 11)\n"
          ],
          "name": "stdout"
        }
      ]
    },
    {
      "cell_type": "code",
      "metadata": {
        "colab": {
          "base_uri": "https://localhost:8080/"
        },
        "id": "VQdGmqqO9zh5",
        "outputId": "05504a7f-d569-40cf-a847-de1944feaac5"
      },
      "source": [
        "d['Name'] = d['Name'].astype('category')\n",
        "d['Name'].dtypes"
      ],
      "execution_count": 9,
      "outputs": [
        {
          "output_type": "execute_result",
          "data": {
            "text/plain": [
              "CategoricalDtype(categories=[''98 Koshien', '.hack//G.U. Vol.1//Rebirth',\n",
              "                  '.hack//G.U. Vol.2//Reminisce',\n",
              "                  '.hack//G.U. Vol.2//Reminisce (jp sales)',\n",
              "                  '.hack//G.U. Vol.3//Redemption', '.hack//Infection Part 1',\n",
              "                  '.hack//Link', '.hack//Mutation Part 2',\n",
              "                  '.hack//Outbreak Part 3',\n",
              "                  '.hack//Quarantine Part 4: The Final Chapter',\n",
              "                  ...\n",
              "                  'nail'd', 'pro evolution soccer 2011', 'th!nk Logic Trainer',\n",
              "                  'thinkSMART', 'thinkSMART FAMILY!',\n",
              "                  'thinkSMART: Chess for Kids', 'uDraw Studio',\n",
              "                  'uDraw Studio: Instant Artist', 'wwe Smackdown vs. Raw 2006',\n",
              "                  '¡Shin Chan Flipa en colores!'],\n",
              "                 ordered=False)"
            ]
          },
          "metadata": {
            "tags": []
          },
          "execution_count": 9
        }
      ]
    },
    {
      "cell_type": "code",
      "metadata": {
        "colab": {
          "base_uri": "https://localhost:8080/"
        },
        "id": "1CVEumaQDHnH",
        "outputId": "6d8a01fd-68be-4d02-b18d-a1ee8826ab07"
      },
      "source": [
        "n = d.nunique(axis=0)\n",
        "n"
      ],
      "execution_count": 10,
      "outputs": [
        {
          "output_type": "execute_result",
          "data": {
            "text/plain": [
              "Rank            16598\n",
              "Name            11493\n",
              "Platform           31\n",
              "Year               39\n",
              "Genre              12\n",
              "Publisher         578\n",
              "NA_Sales          409\n",
              "EU_Sales          305\n",
              "JP_Sales          244\n",
              "Other_Sales       157\n",
              "Global_Sales      623\n",
              "dtype: int64"
            ]
          },
          "metadata": {
            "tags": []
          },
          "execution_count": 10
        }
      ]
    },
    {
      "cell_type": "code",
      "metadata": {
        "id": "L55t46o_Ph_4"
      },
      "source": [
        "d.dropna(inplace = True)"
      ],
      "execution_count": 11,
      "outputs": []
    },
    {
      "cell_type": "code",
      "metadata": {
        "id": "MFtZm8r8S1E5"
      },
      "source": [
        "# d[\"Publisher\"] = d[\"Publisher\"].astype(str).str.replace('<',' ')"
      ],
      "execution_count": 12,
      "outputs": []
    },
    {
      "cell_type": "code",
      "metadata": {
        "id": "6HG794SETmu2"
      },
      "source": [
        "# d[\"Publisher\"].dtype"
      ],
      "execution_count": 13,
      "outputs": []
    },
    {
      "cell_type": "markdown",
      "metadata": {
        "id": "LMHCLoH76Vzt"
      },
      "source": [
        "## Missing Data Fixed"
      ]
    },
    {
      "cell_type": "code",
      "metadata": {
        "id": "FEt5Qu2r6Tpk"
      },
      "source": [
        "from sklearn.impute import SimpleImputer\n",
        "imputer = SimpleImputer(missing_values=np.nan, strategy='mean')\n",
        "imputer.fit(X)\n",
        "X = imputer.transform(X)"
      ],
      "execution_count": 14,
      "outputs": []
    },
    {
      "cell_type": "markdown",
      "metadata": {
        "id": "7lhfxMin432V"
      },
      "source": [
        "## Label Encoding"
      ]
    },
    {
      "cell_type": "code",
      "metadata": {
        "id": "4PWoWmheybEo"
      },
      "source": [
        "# from sklearn.compose import ColumnTransformer\n",
        "# from sklearn.preprocessing import OneHotEncoder\n",
        "# ct = ColumnTransformer(transformers=[('encoder', OneHotEncoder(), [0])], remainder='passthrough')\n",
        "# X[:,1:2] = np.array(ct.fit_transform(X[:,1:2]))\n",
        "# X[:,4:5] = np.array(ct.fit_transform(X[:,4:5]))"
      ],
      "execution_count": 15,
      "outputs": []
    },
    {
      "cell_type": "code",
      "metadata": {
        "id": "Sjt5cXe8_uJt"
      },
      "source": [
        "from sklearn.preprocessing import LabelEncoder\n",
        "le = LabelEncoder()\n",
        "X1[:, 1] = le.fit_transform(X1[:, 1])\n",
        "X1[:, 2] = le.fit_transform(X1[:, 2])\n",
        "X1[:, 4] = le.fit_transform(X1[:, 4])"
      ],
      "execution_count": 16,
      "outputs": []
    },
    {
      "cell_type": "code",
      "metadata": {
        "colab": {
          "base_uri": "https://localhost:8080/"
        },
        "id": "AbQxXbHnAqoH",
        "outputId": "d57d07ca-a938-460a-d7df-fc8540627f96"
      },
      "source": [
        "X[:,1]"
      ],
      "execution_count": 17,
      "outputs": [
        {
          "output_type": "execute_result",
          "data": {
            "text/plain": [
              "array([2.902e+01, 3.580e+00, 1.288e+01, ..., 0.000e+00, 1.000e-02,\n",
              "       0.000e+00])"
            ]
          },
          "metadata": {
            "tags": []
          },
          "execution_count": 17
        }
      ]
    },
    {
      "cell_type": "markdown",
      "metadata": {
        "id": "c16ciT7z6eKa"
      },
      "source": [
        "## Splitting the Dataset into Training and Test Set"
      ]
    },
    {
      "cell_type": "code",
      "metadata": {
        "id": "LBUXaj43yn6G"
      },
      "source": [
        "from sklearn.model_selection import train_test_split\n",
        "X_train, X_test, y_train, y_test = train_test_split(X, y, test_size = 1/3, random_state = 0)"
      ],
      "execution_count": 18,
      "outputs": []
    },
    {
      "cell_type": "code",
      "metadata": {
        "colab": {
          "base_uri": "https://localhost:8080/"
        },
        "id": "zmwKXS8k0ANV",
        "outputId": "860e77e0-7efb-49e8-fafd-1369ede25ba7"
      },
      "source": [
        "print(X_train)\n",
        "print(X_test)"
      ],
      "execution_count": 19,
      "outputs": [
        {
          "output_type": "stream",
          "text": [
            "[[0.1  0.03 0.   0.  ]\n",
            " [0.01 0.   0.   0.  ]\n",
            " [0.05 0.02 0.   0.  ]\n",
            " ...\n",
            " [0.   0.   0.12 0.  ]\n",
            " [0.08 0.01 0.   0.01]\n",
            " [0.41 0.21 0.   0.14]]\n",
            "[[0.47 0.53 0.03 0.22]\n",
            " [0.08 0.06 0.19 0.02]\n",
            " [0.09 0.06 0.11 0.02]\n",
            " ...\n",
            " [0.03 0.01 0.   0.  ]\n",
            " [0.07 0.   0.   0.01]\n",
            " [0.05 0.05 0.   0.01]]\n"
          ],
          "name": "stdout"
        }
      ]
    },
    {
      "cell_type": "code",
      "metadata": {
        "colab": {
          "base_uri": "https://localhost:8080/"
        },
        "id": "tpNKerUk6k_b",
        "outputId": "ed7fd7b1-26ee-43cc-bf03-e850a5a97713"
      },
      "source": [
        "print(y_train)\n",
        "print(y_test)"
      ],
      "execution_count": 20,
      "outputs": [
        {
          "output_type": "stream",
          "text": [
            "[0.13 0.01 0.07 ... 0.12 0.1  0.75]\n",
            "[1.25 0.34 0.27 ... 0.04 0.08 0.11]\n"
          ],
          "name": "stdout"
        }
      ]
    },
    {
      "cell_type": "markdown",
      "metadata": {
        "id": "PkIJgOrx4hdQ"
      },
      "source": [
        "## Feature Scaling\n"
      ]
    },
    {
      "cell_type": "code",
      "metadata": {
        "id": "AXkTDHpl8aH2"
      },
      "source": [
        "from sklearn.preprocessing import StandardScaler\n",
        "sc = StandardScaler()\n",
        "X_train = sc.fit_transform(X_train)\n",
        "X_test = sc.transform(X_test)"
      ],
      "execution_count": 21,
      "outputs": []
    },
    {
      "cell_type": "markdown",
      "metadata": {
        "id": "H7RCzzzL4oSO"
      },
      "source": [
        "## Plots"
      ]
    },
    {
      "cell_type": "code",
      "metadata": {
        "colab": {
          "base_uri": "https://localhost:8080/",
          "height": 295
        },
        "id": "rP8HoA4p55u-",
        "outputId": "ea94a740-2657-4dad-9687-f7a6935624d2"
      },
      "source": [
        "a=d[\"EU_Sales\"]\n",
        "b=d[\"NA_Sales\"]\n",
        "plt.scatter(a,b)\n",
        "# plt.plot(X_train, regressor.predict(X), color = 'blue')\n",
        "plt.title('Correlation between sales in Europe and North America')\n",
        "plt.xlabel('EU Sales');\n",
        "plt.ylabel('NA Sales');"
      ],
      "execution_count": null,
      "outputs": [
        {
          "output_type": "display_data",
          "data": {
            "image/png": "[encoded data removed]",
            "text/plain": [
              "<Figure size 432x288 with 1 Axes>"
            ]
          },
          "metadata": {
            "tags": [],
            "needs_background": "light"
          }
        }
      ]
    },
    {
      "cell_type": "code",
      "metadata": {
        "colab": {
          "base_uri": "https://localhost:8080/",
          "height": 295
        },
        "id": "XMRJOu2axHOw",
        "outputId": "a7ae9e21-cd38-4050-86bd-88b06abbdb50"
      },
      "source": [
        "a=d[\"EU_Sales\"]\n",
        "b=d[\"Other_Sales\"]\n",
        "plt.scatter(a,b)\n",
        "# plt.plot(X_train, regressor.predict(X), color = 'blue')\n",
        "plt.title('Correlation between sales in Europe and Other places')\n",
        "plt.xlabel('EU Sales');\n",
        "plt.ylabel('Other Sales');"
      ],
      "execution_count": null,
      "outputs": [
        {
          "output_type": "display_data",
          "data": {
            "image/png": "[encoded data removed]",
            "text/plain": [
              "<Figure size 432x288 with 1 Axes>"
            ]
          },
          "metadata": {
            "tags": [],
            "needs_background": "light"
          }
        }
      ]
    },
    {
      "cell_type": "code",
      "metadata": {
        "colab": {
          "base_uri": "https://localhost:8080/"
        },
        "id": "bEsHXFhHEt4P",
        "outputId": "d1790d9a-5215-42be-8b83-6bd2fd90f482"
      },
      "source": [
        "cnt = 0\n",
        "visited = []\n",
        "for i in range(0, len(d['Genre'])):\n",
        "    if d['Genre'][i] not in visited: \n",
        "        visited.append(d['Genre'][i])\n",
        "print(\"unique values :\",\n",
        "      visited)"
      ],
      "execution_count": null,
      "outputs": [
        {
          "output_type": "stream",
          "text": [
            "unique values : ['Sports', 'Platform', 'Racing', 'Role-Playing', 'Puzzle', 'Misc', 'Shooter', 'Simulation', 'Action', 'Fighting', 'Adventure', 'Strategy']\n"
          ],
          "name": "stdout"
        }
      ]
    },
    {
      "cell_type": "code",
      "metadata": {
        "colab": {
          "base_uri": "https://localhost:8080/"
        },
        "id": "OxrQgJDFCFV1",
        "outputId": "3506f38e-65ea-4992-927c-c768e9ca59fb"
      },
      "source": [
        "d2={}\n",
        "d2[0]=d[\"Genre\"].isin(['Sports']).sum(axis=0)\n",
        "d2[1]=d[\"Genre\"].isin(['Platform']).sum(axis=0)\n",
        "d2[2]=d[\"Genre\"].isin(['Racing']).sum(axis=0)\n",
        "d2[3]=d[\"Genre\"].isin(['Role-Play']).sum(axis=0)\n",
        "d2[4]=d[\"Genre\"].isin(['Puzzle']).sum(axis=0)\n",
        "d2[5]=d[\"Genre\"].isin(['Misc']).sum(axis=0)\n",
        "d2[6]=d[\"Genre\"].isin(['Shooter']).sum(axis=0)\n",
        "d2[7]=d[\"Genre\"].isin(['Simulation']).sum(axis=0)\n",
        "d2[8]=d[\"Genre\"].isin(['Action']).sum(axis=0)\n",
        "d2[9]=d[\"Genre\"].isin(['Fighting']).sum(axis=0)\n",
        "d2[10]=d[\"Genre\"].isin(['Adventure']).sum(axis=0)\n",
        "d2[11]=d[\"Genre\"].isin(['Strategy']).sum(axis=0)\n",
        "d2"
      ],
      "execution_count": null,
      "outputs": [
        {
          "output_type": "execute_result",
          "data": {
            "text/plain": [
              "{0: 2346,\n",
              " 1: 886,\n",
              " 2: 1249,\n",
              " 3: 0,\n",
              " 4: 582,\n",
              " 5: 1739,\n",
              " 6: 1310,\n",
              " 7: 867,\n",
              " 8: 3316,\n",
              " 9: 848,\n",
              " 10: 1286,\n",
              " 11: 681}"
            ]
          },
          "metadata": {
            "tags": []
          },
          "execution_count": 168
        }
      ]
    },
    {
      "cell_type": "markdown",
      "metadata": {
        "id": "LyW1qTqm4u4w"
      },
      "source": [
        "## Searching and Plots"
      ]
    },
    {
      "cell_type": "code",
      "metadata": {
        "colab": {
          "base_uri": "https://localhost:8080/",
          "height": 515
        },
        "id": "DmIJk1B8wDeC",
        "outputId": "3faf74e5-b1c9-4354-fb2b-fe724efe3357"
      },
      "source": [
        "x = input(\"Enter the name of the game:\")\n",
        "i=0\n",
        "j=0\n",
        "d1 = d[\"Name\"].tolist()\n",
        "while (i<16589):\n",
        "      if x == d1[i] :\n",
        "        print(d.loc[i,:])\n",
        "        y=np.array([d.iloc[i]['NA_Sales'],d.iloc[i]['EU_Sales'],d.iloc[i]['JP_Sales'],d.iloc[i]['Other_Sales'],d.iloc[i][\"Global_Sales\"]])\n",
        "        l= [\"NA_Sales\",\"EU_Sales\",\"JP_Sales\",\"Other_Sales\",\"Global_Sales\"]\n",
        "        plt.plot(l,y,'ro')\n",
        "        plt.xlabel('Sales');\n",
        "        plt.ylabel('Amount');\n",
        "        plt.show\n",
        "      elif ( i == 16588 ):\n",
        "        print(\"No such game found\")\n",
        "      i=i+1"
      ],
      "execution_count": null,
      "outputs": [
        {
          "output_type": "stream",
          "text": [
            "Enter the name of the game:Wii Sports\n",
            "Rank                     1\n",
            "Name            Wii Sports\n",
            "Platform               Wii\n",
            "Year                  2006\n",
            "Genre               Sports\n",
            "Publisher         Nintendo\n",
            "NA_Sales             41.49\n",
            "EU_Sales             29.02\n",
            "JP_Sales              3.77\n",
            "Other_Sales           8.46\n",
            "Global_Sales         82.74\n",
            "Name: 0, dtype: object\n",
            "No such game found\n"
          ],
          "name": "stdout"
        },
        {
          "output_type": "display_data",
          "data": {
            "image/png": "[encoded data removed]",
            "text/plain": [
              "<Figure size 432x288 with 1 Axes>"
            ]
          },
          "metadata": {
            "tags": [],
            "needs_background": "light"
          }
        }
      ]
    },
    {
      "cell_type": "code",
      "metadata": {
        "colab": {
          "base_uri": "https://localhost:8080/",
          "height": 483
        },
        "id": "mWBnuhaA0l1N",
        "outputId": "4a21248d-cee7-40eb-c1f3-a924fcfdcf6b"
      },
      "source": [
        "x = input(\"Enter the name of the game:\")\n",
        "i=0\n",
        "j=0\n",
        "d1 = d[\"Name\"].tolist()\n",
        "while (i<16589):\n",
        "      if x == d1[i] :\n",
        "        print(d.loc[i,:])\n",
        "        print(d.iloc[i]['NA_Sales'])\n",
        "        y=np.array([d.iloc[i]['NA_Sales'],d.iloc[i]['EU_Sales'],d.iloc[i]['JP_Sales'],d.iloc[i]['Other_Sales']])\n",
        "        l= [\"NA_Sales\",\"EU_Sales\",\"JP_Sales\",\"Other_Sales\"]\n",
        "        plt.pie(y,labels=l)\n",
        "        plt.show\n",
        "      elif ( i == 16588 ):\n",
        "        print(\"No such game found\")\n",
        "      i=i+1"
      ],
      "execution_count": null,
      "outputs": [
        {
          "output_type": "stream",
          "text": [
            "Enter the name of the game:Wii Sports Resort\n",
            "Rank                            4\n",
            "Name            Wii Sports Resort\n",
            "Platform                      Wii\n",
            "Year                         2009\n",
            "Genre                      Sports\n",
            "Publisher                Nintendo\n",
            "NA_Sales                    15.75\n",
            "EU_Sales                    11.01\n",
            "JP_Sales                     3.28\n",
            "Other_Sales                  2.96\n",
            "Global_Sales                   33\n",
            "Name: 3, dtype: object\n",
            "15.75\n"
          ],
          "name": "stdout"
        },
        {
          "output_type": "display_data",
          "data": {
            "image/png": "[encoded data removed]",
            "text/plain": [
              "<Figure size 432x288 with 1 Axes>"
            ]
          },
          "metadata": {
            "tags": []
          }
        }
      ]
    },
    {
      "cell_type": "code",
      "metadata": {
        "id": "wgcUIvTF5ffs",
        "colab": {
          "base_uri": "https://localhost:8080/"
        },
        "outputId": "723c7748-d429-4bdc-b232-8af00e7996f0"
      },
      "source": [
        "x = input(\"Enter the column name except global sales(Excluding Wii Sports) :\")\n",
        "c = input(\"1 for max 2 for min :\")\n",
        "i=1\n",
        "j=0\n",
        "max=0\n",
        "min=100000000000\n",
        "d1 = d[x].tolist()\n",
        "if c==\"1\" :\n",
        "  while (i<16589):\n",
        "      if d1[i]>max :\n",
        "        max=d1[i]\n",
        "        j=i\n",
        "      i=i+1\n",
        "elif c==\"2\" :\n",
        "  while (i<16589):\n",
        "      if d1[i]<min :\n",
        "        min=d1[i]\n",
        "        j=i\n",
        "      i=i+1\n",
        "else :\n",
        "  print(\"Enter number 1 or 2 please\")\n",
        "print(d.loc[j,:])"
      ],
      "execution_count": null,
      "outputs": [
        {
          "output_type": "stream",
          "text": [
            "Enter the column name except global sales(Excluding Wii Sports) :EU_Sales\n",
            "1 for max 2 for min :1\n",
            "Rank                         3\n",
            "Name            Mario Kart Wii\n",
            "Platform                   Wii\n",
            "Year                      2008\n",
            "Genre                   Racing\n",
            "Publisher             Nintendo\n",
            "NA_Sales                 15.85\n",
            "EU_Sales                 12.88\n",
            "JP_Sales                  3.79\n",
            "Other_Sales               3.31\n",
            "Global_Sales             35.82\n",
            "Name: 2, dtype: object\n"
          ],
          "name": "stdout"
        }
      ]
    },
    {
      "cell_type": "markdown",
      "metadata": {
        "id": "r7JlHZhBVXvX"
      },
      "source": [
        "##Linear Regression"
      ]
    },
    {
      "cell_type": "code",
      "metadata": {
        "colab": {
          "base_uri": "https://localhost:8080/"
        },
        "id": "B5p-B8GS5n_e",
        "outputId": "da9c2722-cfa5-4608-f617-30489e6da088"
      },
      "source": [
        "from sklearn.linear_model import LinearRegression\n",
        "lr=LinearRegression()\n",
        "lr.fit(X_train,y_train)"
      ],
      "execution_count": 27,
      "outputs": [
        {
          "output_type": "execute_result",
          "data": {
            "text/plain": [
              "LinearRegression(copy_X=True, fit_intercept=True, n_jobs=None, normalize=False)"
            ]
          },
          "metadata": {
            "tags": []
          },
          "execution_count": 27
        }
      ]
    },
    {
      "cell_type": "code",
      "metadata": {
        "id": "H0AsUg0VLmB7"
      },
      "source": [
        "y_pred = lr.predict(X_test)"
      ],
      "execution_count": 28,
      "outputs": []
    },
    {
      "cell_type": "code",
      "metadata": {
        "colab": {
          "base_uri": "https://localhost:8080/"
        },
        "id": "ssdGpdEGadH7",
        "outputId": "24890256-2a20-4e22-e381-53c0281a2adb"
      },
      "source": [
        "from sklearn.metrics import r2_score\n",
        "r2_Linear = r2_score(y_test,y_pred)\n",
        "print(r2_Linear)"
      ],
      "execution_count": 29,
      "outputs": [
        {
          "output_type": "stream",
          "text": [
            "0.999986615586665\n"
          ],
          "name": "stdout"
        }
      ]
    },
    {
      "cell_type": "markdown",
      "metadata": {
        "id": "_cYmvYbbQmsu"
      },
      "source": [
        "## Multi Linear Regression"
      ]
    },
    {
      "cell_type": "code",
      "metadata": {
        "colab": {
          "base_uri": "https://localhost:8080/"
        },
        "id": "7gWSmRGF-60k",
        "outputId": "095e573d-383b-4678-af56-d873975b8455"
      },
      "source": [
        "from sklearn.linear_model import LinearRegression\n",
        "mregressor = LinearRegression()\n",
        "mregressor.fit(X_train, y_train)"
      ],
      "execution_count": 30,
      "outputs": [
        {
          "output_type": "execute_result",
          "data": {
            "text/plain": [
              "LinearRegression(copy_X=True, fit_intercept=True, n_jobs=None, normalize=False)"
            ]
          },
          "metadata": {
            "tags": []
          },
          "execution_count": 30
        }
      ]
    },
    {
      "cell_type": "code",
      "metadata": {
        "id": "wfcGLlR1QuDi"
      },
      "source": [
        "y_pred = mregressor.predict(X_test)"
      ],
      "execution_count": 31,
      "outputs": []
    },
    {
      "cell_type": "code",
      "metadata": {
        "colab": {
          "base_uri": "https://localhost:8080/"
        },
        "id": "Zjn2EzXdVyQ_",
        "outputId": "c5606fcb-1f80-435f-e782-3dd706083881"
      },
      "source": [
        "y_pred.shape"
      ],
      "execution_count": 32,
      "outputs": [
        {
          "output_type": "execute_result",
          "data": {
            "text/plain": [
              "(5533,)"
            ]
          },
          "metadata": {
            "tags": []
          },
          "execution_count": 32
        }
      ]
    },
    {
      "cell_type": "code",
      "metadata": {
        "colab": {
          "base_uri": "https://localhost:8080/"
        },
        "id": "YKV0zJzwL3NR",
        "outputId": "8c4d0f43-c7a8-4d8f-91f0-ddfa0d720115"
      },
      "source": [
        "X_test"
      ],
      "execution_count": 33,
      "outputs": [
        {
          "output_type": "execute_result",
          "data": {
            "text/plain": [
              "array([[ 0.25010209,  0.7172235 , -0.1533691 ,  0.83006249],\n",
              "       [-0.22565889, -0.16497798,  0.35080814, -0.13976365],\n",
              "       [-0.21345989, -0.16497798,  0.09871952, -0.13976365],\n",
              "       ...,\n",
              "       [-0.28665389, -0.2588292 , -0.24790233, -0.23674626],\n",
              "       [-0.23785789, -0.27759944, -0.24790233, -0.18825495],\n",
              "       [-0.26225589, -0.18374822, -0.24790233, -0.18825495]])"
            ]
          },
          "metadata": {
            "tags": []
          },
          "execution_count": 33
        }
      ]
    },
    {
      "cell_type": "code",
      "metadata": {
        "colab": {
          "base_uri": "https://localhost:8080/"
        },
        "id": "kngMOOcrU--3",
        "outputId": "91b36d99-1759-42c3-d5b6-0c964495751f"
      },
      "source": [
        "from sklearn.metrics import r2_score\n",
        "r2_MLinear = r2_score(y_test,y_pred)\n",
        "print(r2_MLinear)"
      ],
      "execution_count": 34,
      "outputs": [
        {
          "output_type": "stream",
          "text": [
            "0.999986615586665\n"
          ],
          "name": "stdout"
        }
      ]
    },
    {
      "cell_type": "markdown",
      "metadata": {
        "id": "Z0gU-wt2WjFd"
      },
      "source": [
        "## Polynomial Regression"
      ]
    },
    {
      "cell_type": "code",
      "metadata": {
        "colab": {
          "base_uri": "https://localhost:8080/"
        },
        "id": "5IBsN0uzLqOt",
        "outputId": "91261caa-36b5-4635-a63c-883505d663a9"
      },
      "source": [
        "from sklearn.preprocessing import PolynomialFeatures\n",
        "poly_reg = PolynomialFeatures(degree = 4)\n",
        "X_poly = poly_reg.fit_transform(X)\n",
        "lin_reg_2 = LinearRegression()\n",
        "lin_reg_2.fit(X_poly, y)"
      ],
      "execution_count": 35,
      "outputs": [
        {
          "output_type": "execute_result",
          "data": {
            "text/plain": [
              "LinearRegression(copy_X=True, fit_intercept=True, n_jobs=None, normalize=False)"
            ]
          },
          "metadata": {
            "tags": []
          },
          "execution_count": 35
        }
      ]
    },
    {
      "cell_type": "code",
      "metadata": {
        "colab": {
          "base_uri": "https://localhost:8080/"
        },
        "id": "GYgRM5erYDmV",
        "outputId": "cc9b6a3f-400d-408e-872f-6e7b23eef78c"
      },
      "source": [
        "from sklearn.metrics import r2_score\n",
        "r2_RLinear = r2_score(y_test,y_pred)\n",
        "print(r2_RLinear)"
      ],
      "execution_count": 36,
      "outputs": [
        {
          "output_type": "stream",
          "text": [
            "0.999986615586665\n"
          ],
          "name": "stdout"
        }
      ]
    },
    {
      "cell_type": "markdown",
      "metadata": {
        "id": "kagZqCdLbuWB"
      },
      "source": [
        "## Non Linear SVM"
      ]
    },
    {
      "cell_type": "code",
      "metadata": {
        "colab": {
          "base_uri": "https://localhost:8080/"
        },
        "id": "MtLdxGjcbIlF",
        "outputId": "f2c65052-28e6-4f7d-dab4-27b8ff96d6b4"
      },
      "source": [
        "from sklearn.svm import SVR\n",
        "regressor = SVR(kernel = 'rbf')\n",
        "regressor.fit(X_train, y_train)"
      ],
      "execution_count": 37,
      "outputs": [
        {
          "output_type": "execute_result",
          "data": {
            "text/plain": [
              "SVR(C=1.0, cache_size=200, coef0=0.0, degree=3, epsilon=0.1, gamma='scale',\n",
              "    kernel='rbf', max_iter=-1, shrinking=True, tol=0.001, verbose=False)"
            ]
          },
          "metadata": {
            "tags": []
          },
          "execution_count": 37
        }
      ]
    },
    {
      "cell_type": "code",
      "metadata": {
        "id": "R4wqFYjwbtHt"
      },
      "source": [
        "y_pred = regressor.predict(X_test)"
      ],
      "execution_count": 38,
      "outputs": []
    },
    {
      "cell_type": "code",
      "metadata": {
        "colab": {
          "base_uri": "https://localhost:8080/"
        },
        "id": "qGvW4t0ub2pW",
        "outputId": "4395dfd4-7eb1-41a7-f74b-dfacffd55fda"
      },
      "source": [
        "r2_NonlinearSVR = r2_score(y_test,y_pred)\n",
        "print(r2_NonlinearSVR)"
      ],
      "execution_count": 39,
      "outputs": [
        {
          "output_type": "stream",
          "text": [
            "0.6939552217455672\n"
          ],
          "name": "stdout"
        }
      ]
    },
    {
      "cell_type": "markdown",
      "metadata": {
        "id": "15LiPnj7cYun"
      },
      "source": [
        "## Decision Tree"
      ]
    },
    {
      "cell_type": "code",
      "metadata": {
        "colab": {
          "base_uri": "https://localhost:8080/"
        },
        "id": "U2c0RkZtb9Oc",
        "outputId": "6bddaff9-9f8b-4bba-ee82-0a266b481093"
      },
      "source": [
        "from sklearn.tree import DecisionTreeRegressor\n",
        "dt = DecisionTreeRegressor(random_state = 0)\n",
        "dt.fit(X_train, y_train)"
      ],
      "execution_count": 40,
      "outputs": [
        {
          "output_type": "execute_result",
          "data": {
            "text/plain": [
              "DecisionTreeRegressor(ccp_alpha=0.0, criterion='mse', max_depth=None,\n",
              "                      max_features=None, max_leaf_nodes=None,\n",
              "                      min_impurity_decrease=0.0, min_impurity_split=None,\n",
              "                      min_samples_leaf=1, min_samples_split=2,\n",
              "                      min_weight_fraction_leaf=0.0, presort='deprecated',\n",
              "                      random_state=0, splitter='best')"
            ]
          },
          "metadata": {
            "tags": []
          },
          "execution_count": 40
        }
      ]
    },
    {
      "cell_type": "code",
      "metadata": {
        "id": "tNrpsepfcfSu"
      },
      "source": [
        "y_pred=dt.predict(X_test)"
      ],
      "execution_count": 41,
      "outputs": []
    },
    {
      "cell_type": "code",
      "metadata": {
        "colab": {
          "base_uri": "https://localhost:8080/"
        },
        "id": "rBJ8Qvojcwol",
        "outputId": "37727762-57d5-4ff7-fe55-9e64a507bb89"
      },
      "source": [
        "r2_dt=r2_score(y_test,y_pred)\n",
        "print(r2_dt)"
      ],
      "execution_count": 42,
      "outputs": [
        {
          "output_type": "stream",
          "text": [
            "0.9581222966409768\n"
          ],
          "name": "stdout"
        }
      ]
    },
    {
      "cell_type": "markdown",
      "metadata": {
        "id": "StG0dZFGaWq-"
      },
      "source": [
        "## Random Forest"
      ]
    },
    {
      "cell_type": "code",
      "metadata": {
        "id": "jIeA35m59Tnz",
        "colab": {
          "base_uri": "https://localhost:8080/"
        },
        "outputId": "565666b2-d97d-437a-e58d-4915a72b16aa"
      },
      "source": [
        "from sklearn.ensemble import RandomForestRegressor\n",
        "rf = RandomForestRegressor(n_estimators = 10, random_state=0)\n",
        "rf.fit(X_train, y_train)"
      ],
      "execution_count": 43,
      "outputs": [
        {
          "output_type": "execute_result",
          "data": {
            "text/plain": [
              "RandomForestRegressor(bootstrap=True, ccp_alpha=0.0, criterion='mse',\n",
              "                      max_depth=None, max_features='auto', max_leaf_nodes=None,\n",
              "                      max_samples=None, min_impurity_decrease=0.0,\n",
              "                      min_impurity_split=None, min_samples_leaf=1,\n",
              "                      min_samples_split=2, min_weight_fraction_leaf=0.0,\n",
              "                      n_estimators=10, n_jobs=None, oob_score=False,\n",
              "                      random_state=0, verbose=0, warm_start=False)"
            ]
          },
          "metadata": {
            "tags": []
          },
          "execution_count": 43
        }
      ]
    },
    {
      "cell_type": "code",
      "metadata": {
        "id": "Jefh4S18zurT"
      },
      "source": [
        "y_pred = rf.predict(X_test)"
      ],
      "execution_count": 44,
      "outputs": []
    },
    {
      "cell_type": "code",
      "metadata": {
        "id": "JKlKr2Pvzn7N",
        "colab": {
          "base_uri": "https://localhost:8080/"
        },
        "outputId": "509bcd8e-3c16-4bdd-c7d9-27bef9ac9975"
      },
      "source": [
        "r2_rf = r2_score(y_test,y_pred)\n",
        "print(r2_rf)"
      ],
      "execution_count": 45,
      "outputs": [
        {
          "output_type": "stream",
          "text": [
            "0.9849428232929323\n"
          ],
          "name": "stdout"
        }
      ]
    },
    {
      "cell_type": "markdown",
      "metadata": {
        "id": "sGZ7W3UseL7S"
      },
      "source": [
        "## Comparing r2 scores"
      ]
    },
    {
      "cell_type": "code",
      "metadata": {
        "colab": {
          "base_uri": "https://localhost:8080/"
        },
        "id": "dydeaD9XeYJV",
        "outputId": "980494a0-1798-4a8b-a3cc-05b8b4e06c3f"
      },
      "source": [
        "labelList = ['Linear Regression','Multiple Linear Reg.','Polynomial Reg.','Decision Tree','Random Forest','Non-Linear SVR']\n",
        "mylist = [r2_Linear,r2_MLinear,r2_RLinear,r2_NonlinearSVR,r2_rf,r2_dt]\n",
        "for i in range(0,len(mylist)):\n",
        "    mylist[i]=np.round(mylist[i]*100,decimals=3)\n",
        "print(mylist)"
      ],
      "execution_count": 46,
      "outputs": [
        {
          "output_type": "stream",
          "text": [
            "[99.999, 99.999, 99.999, 69.396, 98.494, 95.812]\n"
          ],
          "name": "stdout"
        }
      ]
    },
    {
      "cell_type": "code",
      "metadata": {
        "colab": {
          "base_uri": "https://localhost:8080/",
          "height": 499
        },
        "id": "x-1vsVlrdTqV",
        "outputId": "bd1d2a1e-d505-45c3-ac04-954c31a42bd1"
      },
      "source": [
        "plt.figure(figsize=(14,8))\n",
        "ax = sns.barplot(x=labelList,y=mylist)\n",
        "plt.yticks(np.arange(0, 101, step=10))\n",
        "plt.title('r2 score comparison among different regression models',fontweight='bold')\n",
        "for p in ax.patches:\n",
        "    width, height = p.get_width(), p.get_height()\n",
        "    x, y = p.get_xy() \n",
        "    ax.annotate('{:.3f}%'.format(height), (x +0.25, y + height + 0.8))\n",
        "plt.show()"
      ],
      "execution_count": 47,
      "outputs": [
        {
          "output_type": "display_data",
          "data": {
            "image/png": "[encoded data removed]",
            "text/plain": [
              "<Figure size 1008x576 with 1 Axes>"
            ]
          },
          "metadata": {
            "tags": [],
            "needs_background": "light"
          }
        }
      ]
    },
    {
      "cell_type": "code",
      "metadata": {
        "colab": {
          "base_uri": "https://localhost:8080/",
          "height": 248
        },
        "id": "0enZ3weLePvt",
        "outputId": "3bbe100c-80e1-4024-c330-238e864f4074"
      },
      "source": [
        "plt.pie(mylist,labels=labelList)\n",
        "plt.show()"
      ],
      "execution_count": 48,
      "outputs": [
        {
          "output_type": "display_data",
          "data": {
            "image/png": "[encoded data removed]",
            "text/plain": [
              "<Figure size 432x288 with 1 Axes>"
            ]
          },
          "metadata": {
            "tags": []
          }
        }
      ]
    },
    {
      "cell_type": "code",
      "metadata": {
        "id": "kofd2IyoY8nH"
      },
      "source": [
        ""
      ],
      "execution_count": null,
      "outputs": []
    }
  ]
}